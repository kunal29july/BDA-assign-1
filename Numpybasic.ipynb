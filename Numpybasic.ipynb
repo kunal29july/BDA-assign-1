{
  "nbformat": 4,
  "nbformat_minor": 0,
  "metadata": {
    "colab": {
      "name": "Numpy.ipynb",
      "provenance": [],
      "authorship_tag": "ABX9TyPB1FrsTu2JHaqir2Gn2Quu",
      "include_colab_link": true
    },
    "kernelspec": {
      "name": "python3",
      "display_name": "Python 3"
    },
    "language_info": {
      "name": "python"
    }
  },
  "cells": [
    {
      "cell_type": "markdown",
      "metadata": {
        "id": "view-in-github",
        "colab_type": "text"
      },
      "source": [
        "<a href=\"https://colab.research.google.com/github/kunal29july/BDA-assign-1/blob/main/Numpybasic.ipynb\" target=\"_parent\"><img src=\"https://colab.research.google.com/assets/colab-badge.svg\" alt=\"Open In Colab\"/></a>"
      ]
    },
    {
      "cell_type": "code",
      "metadata": {
        "id": "uVO_N7a3FCMd"
      },
      "source": [
        "height_in=[74,74,72,72,73,69,69,71,76,71]\n",
        "weight_lbs=[80,215,210,210,188,176,209,200,233,250]"
      ],
      "execution_count": 18,
      "outputs": []
    },
    {
      "cell_type": "code",
      "metadata": {
        "id": "BRJhZ_urFpJh"
      },
      "source": [
        "import numpy as np\n"
      ],
      "execution_count": 17,
      "outputs": []
    },
    {
      "cell_type": "code",
      "metadata": {
        "colab": {
          "base_uri": "https://localhost:8080/"
        },
        "id": "FjXh9hDAFsT3",
        "outputId": "30ea5e08-ab77-4586-9617-94ad879932c8"
      },
      "source": [
        "height_in=np.array(height_in)\n",
        "weight_lbs=np.array(weight_lbs)\n",
        "print(type(height_in))"
      ],
      "execution_count": 19,
      "outputs": [
        {
          "output_type": "stream",
          "text": [
            "<class 'numpy.ndarray'>\n"
          ],
          "name": "stdout"
        }
      ]
    },
    {
      "cell_type": "code",
      "metadata": {
        "colab": {
          "base_uri": "https://localhost:8080/"
        },
        "id": "4S9dlmL7GeMJ",
        "outputId": "5eeb5c0b-fde2-421f-9e61-f25413e34e3f"
      },
      "source": [
        "height_in.size #number of element"
      ],
      "execution_count": 20,
      "outputs": [
        {
          "output_type": "execute_result",
          "data": {
            "text/plain": [
              "10"
            ]
          },
          "metadata": {
            "tags": []
          },
          "execution_count": 20
        }
      ]
    },
    {
      "cell_type": "code",
      "metadata": {
        "id": "_ag9ICH5HSEP"
      },
      "source": [
        "height_meter=height_in *0.025\n",
        "weight_kg=weight_lbs *0.45"
      ],
      "execution_count": 26,
      "outputs": []
    },
    {
      "cell_type": "code",
      "metadata": {
        "colab": {
          "base_uri": "https://localhost:8080/"
        },
        "id": "gFL_MlKYHiGj",
        "outputId": "76b8f460-6ca6-4c71-bdd6-62074b954387"
      },
      "source": [
        "height_meter\n"
      ],
      "execution_count": 27,
      "outputs": [
        {
          "output_type": "execute_result",
          "data": {
            "text/plain": [
              "array([1.85 , 1.85 , 1.8  , 1.8  , 1.825, 1.725, 1.725, 1.775, 1.9  ,\n",
              "       1.775])"
            ]
          },
          "metadata": {
            "tags": []
          },
          "execution_count": 27
        }
      ]
    },
    {
      "cell_type": "code",
      "metadata": {
        "colab": {
          "base_uri": "https://localhost:8080/"
        },
        "id": "_W448PV8Hl1s",
        "outputId": "7fb90eeb-25db-493c-893b-1092106b1036"
      },
      "source": [
        "weight_kg"
      ],
      "execution_count": 28,
      "outputs": [
        {
          "output_type": "execute_result",
          "data": {
            "text/plain": [
              "array([ 36.  ,  96.75,  94.5 ,  94.5 ,  84.6 ,  79.2 ,  94.05,  90.  ,\n",
              "       104.85, 112.5 ])"
            ]
          },
          "metadata": {
            "tags": []
          },
          "execution_count": 28
        }
      ]
    },
    {
      "cell_type": "markdown",
      "metadata": {
        "id": "gFIyKUJbHtSz"
      },
      "source": [
        "#BMI Calculation"
      ]
    },
    {
      "cell_type": "code",
      "metadata": {
        "colab": {
          "base_uri": "https://localhost:8080/"
        },
        "id": "KRuWDuzNHxDf",
        "outputId": "5e3f7c6f-aacc-4414-a8a3-75872252cd08"
      },
      "source": [
        "bmi=weight_kg/(height_meter**2)\n",
        "bmi"
      ],
      "execution_count": 29,
      "outputs": [
        {
          "output_type": "execute_result",
          "data": {
            "text/plain": [
              "array([10.51862673, 28.26880935, 29.16666667, 29.16666667, 25.40063802,\n",
              "       26.61625709, 31.60680529, 28.56576076, 29.04432133, 35.70720095])"
            ]
          },
          "metadata": {
            "tags": []
          },
          "execution_count": 29
        }
      ]
    },
    {
      "cell_type": "code",
      "metadata": {
        "colab": {
          "base_uri": "https://localhost:8080/"
        },
        "id": "ux-Q-0ulJitV",
        "outputId": "a0ee81e6-d586-4ef9-98f2-2e09c703120b"
      },
      "source": [
        "bmi<21"
      ],
      "execution_count": 30,
      "outputs": [
        {
          "output_type": "execute_result",
          "data": {
            "text/plain": [
              "array([ True, False, False, False, False, False, False, False, False,\n",
              "       False])"
            ]
          },
          "metadata": {
            "tags": []
          },
          "execution_count": 30
        }
      ]
    },
    {
      "cell_type": "code",
      "metadata": {
        "colab": {
          "base_uri": "https://localhost:8080/"
        },
        "id": "dkQXHHcLJkYI",
        "outputId": "1234b842-1f14-4b44-867c-69f26ef38b9c"
      },
      "source": [
        "bmi>21"
      ],
      "execution_count": 31,
      "outputs": [
        {
          "output_type": "execute_result",
          "data": {
            "text/plain": [
              "array([False,  True,  True,  True,  True,  True,  True,  True,  True,\n",
              "        True])"
            ]
          },
          "metadata": {
            "tags": []
          },
          "execution_count": 31
        }
      ]
    },
    {
      "cell_type": "code",
      "metadata": {
        "colab": {
          "base_uri": "https://localhost:8080/"
        },
        "id": "kdBto31WJmc4",
        "outputId": "08ab9237-a463-4b6d-aa32-39d8682f37ff"
      },
      "source": [
        "bmi[-3:] #last 3"
      ],
      "execution_count": 33,
      "outputs": [
        {
          "output_type": "execute_result",
          "data": {
            "text/plain": [
              "array([28.56576076, 29.04432133, 35.70720095])"
            ]
          },
          "metadata": {
            "tags": []
          },
          "execution_count": 33
        }
      ]
    },
    {
      "cell_type": "code",
      "metadata": {
        "colab": {
          "base_uri": "https://localhost:8080/"
        },
        "id": "ok0J9bu3JpgE",
        "outputId": "b9b78af6-80d0-4c38-a3e3-61910b005399"
      },
      "source": [
        "bmi[bmi>21].size"
      ],
      "execution_count": 36,
      "outputs": [
        {
          "output_type": "execute_result",
          "data": {
            "text/plain": [
              "9"
            ]
          },
          "metadata": {
            "tags": []
          },
          "execution_count": 36
        }
      ]
    },
    {
      "cell_type": "code",
      "metadata": {
        "colab": {
          "base_uri": "https://localhost:8080/"
        },
        "id": "zND14QgPKE4J",
        "outputId": "162758e4-32b1-439c-9acf-6722568511ab"
      },
      "source": [
        "bmi.max()\n"
      ],
      "execution_count": 45,
      "outputs": [
        {
          "output_type": "execute_result",
          "data": {
            "text/plain": [
              "35.70720095219202"
            ]
          },
          "metadata": {
            "tags": []
          },
          "execution_count": 45
        }
      ]
    },
    {
      "cell_type": "code",
      "metadata": {
        "colab": {
          "base_uri": "https://localhost:8080/"
        },
        "id": "LcnjMg5JKNJi",
        "outputId": "7c04daea-fd67-4d1e-f40c-207a1a843584"
      },
      "source": [
        "bmi.min()"
      ],
      "execution_count": 44,
      "outputs": [
        {
          "output_type": "execute_result",
          "data": {
            "text/plain": [
              "10.51862673484295"
            ]
          },
          "metadata": {
            "tags": []
          },
          "execution_count": 44
        }
      ]
    },
    {
      "cell_type": "code",
      "metadata": {
        "colab": {
          "base_uri": "https://localhost:8080/"
        },
        "id": "pj1Hu5V5KOaa",
        "outputId": "e4c227a3-9f65-4782-c82a-1927a04e721c"
      },
      "source": [
        "bmi.mean()"
      ],
      "execution_count": 43,
      "outputs": [
        {
          "output_type": "execute_result",
          "data": {
            "text/plain": [
              "27.406175286189473"
            ]
          },
          "metadata": {
            "tags": []
          },
          "execution_count": 43
        }
      ]
    },
    {
      "cell_type": "markdown",
      "metadata": {
        "id": "pgotaiLuMhGD"
      },
      "source": [
        "#Slicing\n",
        "(Hint: The syntax is [starting value : end value : step value])"
      ]
    },
    {
      "cell_type": "code",
      "metadata": {
        "colab": {
          "base_uri": "https://localhost:8080/"
        },
        "id": "0N9tna0UKKVY",
        "outputId": "943e9284-942b-4aa5-d543-8ea0d20927d8"
      },
      "source": [
        "array_1 = [1 ,2, 3, 5 ,4, 6, 7, 8 ,5, 3, 2]\n",
        "print(array_1[2:-3])"
      ],
      "execution_count": 48,
      "outputs": [
        {
          "output_type": "stream",
          "text": [
            "[3, 5, 4, 6, 7, 8]\n"
          ],
          "name": "stdout"
        }
      ]
    },
    {
      "cell_type": "code",
      "metadata": {
        "id": "-LHV12c2J5Bg"
      },
      "source": [
        ""
      ],
      "execution_count": null,
      "outputs": []
    }
  ]
}